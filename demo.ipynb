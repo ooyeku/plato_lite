{
 "cells": [
  {
   "cell_type": "code",
   "id": "initial_id",
   "metadata": {
    "collapsed": true,
    "ExecuteTime": {
     "end_time": "2024-06-27T20:04:45.009828Z",
     "start_time": "2024-06-27T20:04:44.996846Z"
    }
   },
   "source": [
    "import numpy as np\n",
    "\n",
    "from core import Plato\n",
    "from utils.data_generator import DataGenerator\n",
    "\n"
   ],
   "outputs": [],
   "execution_count": 58
  },
  {
   "metadata": {
    "ExecuteTime": {
     "end_time": "2024-06-27T20:04:45.025319Z",
     "start_time": "2024-06-27T20:04:45.020933Z"
    }
   },
   "cell_type": "code",
   "source": "plato = Plato()\n",
   "id": "a0cc60d894884246",
   "outputs": [],
   "execution_count": 59
  },
  {
   "metadata": {},
   "cell_type": "markdown",
   "source": "## Setting up a project",
   "id": "647dcb8ff2df063d"
  },
  {
   "metadata": {
    "ExecuteTime": {
     "end_time": "2024-06-27T20:04:45.042533Z",
     "start_time": "2024-06-27T20:04:45.037990Z"
    }
   },
   "cell_type": "code",
   "source": "project = plato.create_project('my_project', \"develop familiarity of the Plato system\" )",
   "id": "c82b6d68ce861e0c",
   "outputs": [
    {
     "name": "stderr",
     "output_type": "stream",
     "text": [
      "\u001B[92m2024-06-27 15:04:45,038 - plato_lite - INFO - Project 'my_project' initialized with goal: 'develop familiarity of the Plato system'\u001B[0m\n",
      "\u001B[92m2024-06-27 15:04:45,038 - plato_lite - INFO - Project 'my_project' initialized with goal: 'develop familiarity of the Plato system'\u001B[0m\n",
      "\u001B[92m2024-06-27 15:04:45,038 - plato_lite - INFO - Project 'my_project' initialized with goal: 'develop familiarity of the Plato system'\u001B[0m\n",
      "\u001B[92m2024-06-27 15:04:45,038 - plato_lite - INFO - Project 'my_project' initialized with goal: 'develop familiarity of the Plato system'\u001B[0m\n",
      "\u001B[92m2024-06-27 15:04:45,040 - plato_lite - INFO - core.py:32 - create_project() - Created new project: my_project\u001B[0m\n",
      "\u001B[92m2024-06-27 15:04:45,040 - plato_lite - INFO - core.py:32 - create_project() - Created new project: my_project\u001B[0m\n",
      "\u001B[92m2024-06-27 15:04:45,040 - plato_lite - INFO - core.py:32 - create_project() - Created new project: my_project\u001B[0m\n",
      "\u001B[92m2024-06-27 15:04:45,040 - plato_lite - INFO - core.py:32 - create_project() - Created new project: my_project\u001B[0m\n"
     ]
    }
   ],
   "execution_count": 60
  },
  {
   "metadata": {
    "ExecuteTime": {
     "end_time": "2024-06-27T20:04:45.048168Z",
     "start_time": "2024-06-27T20:04:45.043377Z"
    }
   },
   "cell_type": "code",
   "source": "project.add_note(\"This is a note for the project\")\n",
   "id": "add7e39fc420cd4c",
   "outputs": [
    {
     "name": "stderr",
     "output_type": "stream",
     "text": [
      "\u001B[92m2024-06-27 15:04:45,043 - plato_lite - INFO - Note added: This is a note for the project\u001B[0m\n",
      "\u001B[92m2024-06-27 15:04:45,043 - plato_lite - INFO - Note added: This is a note for the project\u001B[0m\n",
      "\u001B[92m2024-06-27 15:04:45,043 - plato_lite - INFO - Note added: This is a note for the project\u001B[0m\n",
      "\u001B[92m2024-06-27 15:04:45,043 - plato_lite - INFO - Note added: This is a note for the project\u001B[0m\n"
     ]
    }
   ],
   "execution_count": 61
  },
  {
   "metadata": {},
   "cell_type": "markdown",
   "source": "## Generating data for the project",
   "id": "1389a70bd490ba6b"
  },
  {
   "metadata": {
    "ExecuteTime": {
     "end_time": "2024-06-27T20:04:50.943085Z",
     "start_time": "2024-06-27T20:04:45.049147Z"
    }
   },
   "cell_type": "code",
   "source": [
    "row_count = 100000\n",
    "   \n",
    "generator = DataGenerator(row_count, seed=42)\n",
    "generator.add_numerical(\"age\", min_value=18, max_value=80, distribution=\"normal\")\n",
    "generator.add_categorical(\"gender\", categories=[\"Male\", \"Female\", \"Other\"], weights=[0.48, 0.48, 0.04])\n",
    "generator.add_datetime(\"registration_date\", start_date=\"2020-01-01\", end_date=\"2023-06-30\")\n",
    "generator.add_text(\"comment\", min_words=5, max_words=20)\n",
    "generator.add_email(\"email\")\n",
    "generator.add_phone_number(\"phone\")\n",
    "generator.add_dependent(\"salary\", depends_on=\"age\", func=lambda age: age * 1000 + np.random.normal(0, 5000, len(age)))\n",
    "generator.add_custom(\"id\", lambda: [f\"USER_{i:04d}\" for i in range(row_count)])\n",
    "    \n",
    "df = generator.generate()"
   ],
   "id": "d53c20d1729358a0",
   "outputs": [],
   "execution_count": 62
  },
  {
   "metadata": {
    "ExecuteTime": {
     "end_time": "2024-06-27T20:04:50.948690Z",
     "start_time": "2024-06-27T20:04:50.945090Z"
    }
   },
   "cell_type": "code",
   "source": "project.add_note(\"Generated data for the project with {} rows\".format(row_count))",
   "id": "2ce6eee8d21be57b",
   "outputs": [
    {
     "name": "stderr",
     "output_type": "stream",
     "text": [
      "\u001B[92m2024-06-27 15:04:50,946 - plato_lite - INFO - Note added: Generated data for the project with 100000 rows\u001B[0m\n",
      "\u001B[92m2024-06-27 15:04:50,946 - plato_lite - INFO - Note added: Generated data for the project with 100000 rows\u001B[0m\n",
      "\u001B[92m2024-06-27 15:04:50,946 - plato_lite - INFO - Note added: Generated data for the project with 100000 rows\u001B[0m\n",
      "\u001B[92m2024-06-27 15:04:50,946 - plato_lite - INFO - Note added: Generated data for the project with 100000 rows\u001B[0m\n"
     ]
    }
   ],
   "execution_count": 63
  },
  {
   "metadata": {
    "ExecuteTime": {
     "end_time": "2024-06-27T20:04:50.951875Z",
     "start_time": "2024-06-27T20:04:50.949278Z"
    }
   },
   "cell_type": "code",
   "source": "project.add_artifact(\"data\", \"Generated data\", df)",
   "id": "2bdfaed420793b0a",
   "outputs": [
    {
     "name": "stderr",
     "output_type": "stream",
     "text": [
      "\u001B[92m2024-06-27 15:04:50,949 - plato_lite - INFO - Artifact added: data\u001B[0m\n",
      "\u001B[92m2024-06-27 15:04:50,949 - plato_lite - INFO - Artifact added: data\u001B[0m\n",
      "\u001B[92m2024-06-27 15:04:50,949 - plato_lite - INFO - Artifact added: data\u001B[0m\n",
      "\u001B[92m2024-06-27 15:04:50,949 - plato_lite - INFO - Artifact added: data\u001B[0m\n"
     ]
    }
   ],
   "execution_count": 64
  },
  {
   "metadata": {
    "ExecuteTime": {
     "end_time": "2024-06-27T20:04:50.975692Z",
     "start_time": "2024-06-27T20:04:50.952621Z"
    }
   },
   "cell_type": "code",
   "source": "project.save()\n",
   "id": "9b9b8f9617794291",
   "outputs": [],
   "execution_count": 65
  },
  {
   "metadata": {
    "ExecuteTime": {
     "end_time": "2024-06-27T20:04:50.979538Z",
     "start_time": "2024-06-27T20:04:50.976193Z"
    }
   },
   "cell_type": "code",
   "source": "project.artifacts",
   "id": "d43f537c9420ae8f",
   "outputs": [
    {
     "data": {
      "text/plain": [
       "{'data':              age  gender          registration_date  \\\n",
       " 0      54.132713    Male 2022-03-26 21:48:22.593507   \n",
       " 1      47.571269  Female 2020-02-01 21:55:45.724580   \n",
       " 2      55.692782    Male 2020-12-16 22:29:52.244649   \n",
       " 3      64.737975  Female 2020-10-11 19:36:20.322250   \n",
       " 4      46.580415    Male 2022-07-28 17:41:40.065211   \n",
       " ...          ...     ...                        ...   \n",
       " 99995  46.672676    Male 2022-02-14 07:55:43.670381   \n",
       " 99996  43.112299  Female 2020-04-26 00:38:45.089212   \n",
       " 99997  53.228246  Female 2021-06-12 23:08:18.683195   \n",
       " 99998  46.818719  Female 2020-06-08 09:05:38.724868   \n",
       " 99999  50.240650  Female 2022-01-14 04:21:15.229694   \n",
       " \n",
       "                                                  comment  \\\n",
       " 0      Agent every development say quality throughout...   \n",
       " 1                 Behavior discussion own night respond.   \n",
       " 2      Information last everything thank serve civil ...   \n",
       " 3      Southern role movie win her need stop peace te...   \n",
       " 4      World talk term herself law street class great...   \n",
       " ...                                                  ...   \n",
       " 99995  Cost model environmental eat skill page nor ra...   \n",
       " 99996  Wide mission bank yes method prevent idea futu...   \n",
       " 99997  Beat sell money spend although million cover n...   \n",
       " 99998  Pattern leg serve drug bank operation she task...   \n",
       " 99999  Establish attorney leader attorney stage quite...   \n",
       " \n",
       "                             email                 phone        salary  \\\n",
       " 0          jonathan49@example.net     963.674.5687x8327  53078.156503   \n",
       " 1           nwilliams@example.net  001-941-284-1208x964  51515.313162   \n",
       " 2      gonzalesashley@example.com      001-802-373-2646  64421.367606   \n",
       " 3            ashley03@example.com            2816413306  64146.240531   \n",
       " 4             dalekim@example.com   (345)850-8699x15084  44467.737544   \n",
       " ...                           ...                   ...           ...   \n",
       " 99995       timothy63@example.net      355-756-1249x273  49769.578937   \n",
       " 99996        jsanchez@example.org     (709)838-2588x681  37023.844401   \n",
       " 99997    chambersmary@example.net    (971)814-5323x2217  53867.278030   \n",
       " 99998  nicolesullivan@example.com      999.912.4653x993  42367.384560   \n",
       " 99999    deannaingram@example.com    (915)226-1273x7826  51757.277988   \n",
       " \n",
       "                id  \n",
       " 0       USER_0000  \n",
       " 1       USER_0001  \n",
       " 2       USER_0002  \n",
       " 3       USER_0003  \n",
       " 4       USER_0004  \n",
       " ...           ...  \n",
       " 99995  USER_99995  \n",
       " 99996  USER_99996  \n",
       " 99997  USER_99997  \n",
       " 99998  USER_99998  \n",
       " 99999  USER_99999  \n",
       " \n",
       " [100000 rows x 8 columns]}"
      ]
     },
     "execution_count": 66,
     "metadata": {},
     "output_type": "execute_result"
    }
   ],
   "execution_count": 66
  },
  {
   "metadata": {
    "ExecuteTime": {
     "end_time": "2024-06-27T20:04:50.982426Z",
     "start_time": "2024-06-27T20:04:50.980048Z"
    }
   },
   "cell_type": "code",
   "source": "project.notes",
   "id": "46bd7bda0b86fb27",
   "outputs": [
    {
     "data": {
      "text/plain": [
       "[{'timestamp': '2024-06-27 15:04:45',\n",
       "  'content': 'This is a note for the project'},\n",
       " {'timestamp': '2024-06-27 15:04:50',\n",
       "  'content': 'Generated data for the project with 100000 rows'}]"
      ]
     },
     "execution_count": 67,
     "metadata": {},
     "output_type": "execute_result"
    }
   ],
   "execution_count": 67
  },
  {
   "metadata": {
    "ExecuteTime": {
     "end_time": "2024-06-27T20:04:50.985160Z",
     "start_time": "2024-06-27T20:04:50.982904Z"
    }
   },
   "cell_type": "code",
   "source": "project.name, project.goal",
   "id": "3cedf139fd7516e6",
   "outputs": [
    {
     "data": {
      "text/plain": [
       "('my_project', 'develop familiarity of the Plato system')"
      ]
     },
     "execution_count": 68,
     "metadata": {},
     "output_type": "execute_result"
    }
   ],
   "execution_count": 68
  },
  {
   "metadata": {},
   "cell_type": "markdown",
   "source": "## Using Data Manager",
   "id": "342216c5d8499a6a"
  },
  {
   "metadata": {
    "ExecuteTime": {
     "end_time": "2024-06-27T20:04:51.312383Z",
     "start_time": "2024-06-27T20:04:50.986776Z"
    }
   },
   "cell_type": "code",
   "source": "plato.data_manager.save_data(df, \"my_data.csv\")",
   "id": "de1d7bac62a37323",
   "outputs": [
    {
     "name": "stderr",
     "output_type": "stream",
     "text": [
      "\u001B[92m2024-06-27 15:04:51,310 - plato_lite - INFO - Data saved to my_data.csv\u001B[0m\n",
      "\u001B[92m2024-06-27 15:04:51,310 - plato_lite - INFO - Data saved to my_data.csv\u001B[0m\n",
      "\u001B[92m2024-06-27 15:04:51,310 - plato_lite - INFO - Data saved to my_data.csv\u001B[0m\n",
      "\u001B[92m2024-06-27 15:04:51,310 - plato_lite - INFO - Data saved to my_data.csv\u001B[0m\n"
     ]
    }
   ],
   "execution_count": 69
  },
  {
   "metadata": {
    "ExecuteTime": {
     "end_time": "2024-06-27T20:04:51.499817Z",
     "start_time": "2024-06-27T20:04:51.312976Z"
    }
   },
   "cell_type": "code",
   "source": "plato.data_manager.load_data(\"my_data.csv\")",
   "id": "e0c4c65e621eca57",
   "outputs": [
    {
     "name": "stderr",
     "output_type": "stream",
     "text": [
      "\u001B[92m2024-06-27 15:04:51,495 - plato_lite - INFO - Data loaded from my_data.csv\u001B[0m\n",
      "\u001B[92m2024-06-27 15:04:51,495 - plato_lite - INFO - Data loaded from my_data.csv\u001B[0m\n",
      "\u001B[92m2024-06-27 15:04:51,495 - plato_lite - INFO - Data loaded from my_data.csv\u001B[0m\n",
      "\u001B[92m2024-06-27 15:04:51,495 - plato_lite - INFO - Data loaded from my_data.csv\u001B[0m\n"
     ]
    },
    {
     "data": {
      "text/plain": [
       "       Unnamed: 0        age  gender           registration_date  \\\n",
       "0               0  54.132713    Male  2022-03-26 21:48:22.593507   \n",
       "1               1  47.571269  Female  2020-02-01 21:55:45.724580   \n",
       "2               2  55.692782    Male  2020-12-16 22:29:52.244649   \n",
       "3               3  64.737975  Female  2020-10-11 19:36:20.322250   \n",
       "4               4  46.580415    Male  2022-07-28 17:41:40.065211   \n",
       "...           ...        ...     ...                         ...   \n",
       "99995       99995  46.672676    Male  2022-02-14 07:55:43.670381   \n",
       "99996       99996  43.112299  Female  2020-04-26 00:38:45.089212   \n",
       "99997       99997  53.228246  Female  2021-06-12 23:08:18.683195   \n",
       "99998       99998  46.818719  Female  2020-06-08 09:05:38.724868   \n",
       "99999       99999  50.240650  Female  2022-01-14 04:21:15.229694   \n",
       "\n",
       "                                                 comment  \\\n",
       "0      Agent every development say quality throughout...   \n",
       "1                 Behavior discussion own night respond.   \n",
       "2      Information last everything thank serve civil ...   \n",
       "3      Southern role movie win her need stop peace te...   \n",
       "4      World talk term herself law street class great...   \n",
       "...                                                  ...   \n",
       "99995  Cost model environmental eat skill page nor ra...   \n",
       "99996  Wide mission bank yes method prevent idea futu...   \n",
       "99997  Beat sell money spend although million cover n...   \n",
       "99998  Pattern leg serve drug bank operation she task...   \n",
       "99999  Establish attorney leader attorney stage quite...   \n",
       "\n",
       "                            email                 phone        salary  \\\n",
       "0          jonathan49@example.net     963.674.5687x8327  53078.156503   \n",
       "1           nwilliams@example.net  001-941-284-1208x964  51515.313162   \n",
       "2      gonzalesashley@example.com      001-802-373-2646  64421.367606   \n",
       "3            ashley03@example.com            2816413306  64146.240531   \n",
       "4             dalekim@example.com   (345)850-8699x15084  44467.737544   \n",
       "...                           ...                   ...           ...   \n",
       "99995       timothy63@example.net      355-756-1249x273  49769.578937   \n",
       "99996        jsanchez@example.org     (709)838-2588x681  37023.844401   \n",
       "99997    chambersmary@example.net    (971)814-5323x2217  53867.278030   \n",
       "99998  nicolesullivan@example.com      999.912.4653x993  42367.384560   \n",
       "99999    deannaingram@example.com    (915)226-1273x7826  51757.277988   \n",
       "\n",
       "               id  \n",
       "0       USER_0000  \n",
       "1       USER_0001  \n",
       "2       USER_0002  \n",
       "3       USER_0003  \n",
       "4       USER_0004  \n",
       "...           ...  \n",
       "99995  USER_99995  \n",
       "99996  USER_99996  \n",
       "99997  USER_99997  \n",
       "99998  USER_99998  \n",
       "99999  USER_99999  \n",
       "\n",
       "[100000 rows x 9 columns]"
      ],
      "text/html": [
       "<div>\n",
       "<style scoped>\n",
       "    .dataframe tbody tr th:only-of-type {\n",
       "        vertical-align: middle;\n",
       "    }\n",
       "\n",
       "    .dataframe tbody tr th {\n",
       "        vertical-align: top;\n",
       "    }\n",
       "\n",
       "    .dataframe thead th {\n",
       "        text-align: right;\n",
       "    }\n",
       "</style>\n",
       "<table border=\"1\" class=\"dataframe\">\n",
       "  <thead>\n",
       "    <tr style=\"text-align: right;\">\n",
       "      <th></th>\n",
       "      <th>Unnamed: 0</th>\n",
       "      <th>age</th>\n",
       "      <th>gender</th>\n",
       "      <th>registration_date</th>\n",
       "      <th>comment</th>\n",
       "      <th>email</th>\n",
       "      <th>phone</th>\n",
       "      <th>salary</th>\n",
       "      <th>id</th>\n",
       "    </tr>\n",
       "  </thead>\n",
       "  <tbody>\n",
       "    <tr>\n",
       "      <th>0</th>\n",
       "      <td>0</td>\n",
       "      <td>54.132713</td>\n",
       "      <td>Male</td>\n",
       "      <td>2022-03-26 21:48:22.593507</td>\n",
       "      <td>Agent every development say quality throughout...</td>\n",
       "      <td>jonathan49@example.net</td>\n",
       "      <td>963.674.5687x8327</td>\n",
       "      <td>53078.156503</td>\n",
       "      <td>USER_0000</td>\n",
       "    </tr>\n",
       "    <tr>\n",
       "      <th>1</th>\n",
       "      <td>1</td>\n",
       "      <td>47.571269</td>\n",
       "      <td>Female</td>\n",
       "      <td>2020-02-01 21:55:45.724580</td>\n",
       "      <td>Behavior discussion own night respond.</td>\n",
       "      <td>nwilliams@example.net</td>\n",
       "      <td>001-941-284-1208x964</td>\n",
       "      <td>51515.313162</td>\n",
       "      <td>USER_0001</td>\n",
       "    </tr>\n",
       "    <tr>\n",
       "      <th>2</th>\n",
       "      <td>2</td>\n",
       "      <td>55.692782</td>\n",
       "      <td>Male</td>\n",
       "      <td>2020-12-16 22:29:52.244649</td>\n",
       "      <td>Information last everything thank serve civil ...</td>\n",
       "      <td>gonzalesashley@example.com</td>\n",
       "      <td>001-802-373-2646</td>\n",
       "      <td>64421.367606</td>\n",
       "      <td>USER_0002</td>\n",
       "    </tr>\n",
       "    <tr>\n",
       "      <th>3</th>\n",
       "      <td>3</td>\n",
       "      <td>64.737975</td>\n",
       "      <td>Female</td>\n",
       "      <td>2020-10-11 19:36:20.322250</td>\n",
       "      <td>Southern role movie win her need stop peace te...</td>\n",
       "      <td>ashley03@example.com</td>\n",
       "      <td>2816413306</td>\n",
       "      <td>64146.240531</td>\n",
       "      <td>USER_0003</td>\n",
       "    </tr>\n",
       "    <tr>\n",
       "      <th>4</th>\n",
       "      <td>4</td>\n",
       "      <td>46.580415</td>\n",
       "      <td>Male</td>\n",
       "      <td>2022-07-28 17:41:40.065211</td>\n",
       "      <td>World talk term herself law street class great...</td>\n",
       "      <td>dalekim@example.com</td>\n",
       "      <td>(345)850-8699x15084</td>\n",
       "      <td>44467.737544</td>\n",
       "      <td>USER_0004</td>\n",
       "    </tr>\n",
       "    <tr>\n",
       "      <th>...</th>\n",
       "      <td>...</td>\n",
       "      <td>...</td>\n",
       "      <td>...</td>\n",
       "      <td>...</td>\n",
       "      <td>...</td>\n",
       "      <td>...</td>\n",
       "      <td>...</td>\n",
       "      <td>...</td>\n",
       "      <td>...</td>\n",
       "    </tr>\n",
       "    <tr>\n",
       "      <th>99995</th>\n",
       "      <td>99995</td>\n",
       "      <td>46.672676</td>\n",
       "      <td>Male</td>\n",
       "      <td>2022-02-14 07:55:43.670381</td>\n",
       "      <td>Cost model environmental eat skill page nor ra...</td>\n",
       "      <td>timothy63@example.net</td>\n",
       "      <td>355-756-1249x273</td>\n",
       "      <td>49769.578937</td>\n",
       "      <td>USER_99995</td>\n",
       "    </tr>\n",
       "    <tr>\n",
       "      <th>99996</th>\n",
       "      <td>99996</td>\n",
       "      <td>43.112299</td>\n",
       "      <td>Female</td>\n",
       "      <td>2020-04-26 00:38:45.089212</td>\n",
       "      <td>Wide mission bank yes method prevent idea futu...</td>\n",
       "      <td>jsanchez@example.org</td>\n",
       "      <td>(709)838-2588x681</td>\n",
       "      <td>37023.844401</td>\n",
       "      <td>USER_99996</td>\n",
       "    </tr>\n",
       "    <tr>\n",
       "      <th>99997</th>\n",
       "      <td>99997</td>\n",
       "      <td>53.228246</td>\n",
       "      <td>Female</td>\n",
       "      <td>2021-06-12 23:08:18.683195</td>\n",
       "      <td>Beat sell money spend although million cover n...</td>\n",
       "      <td>chambersmary@example.net</td>\n",
       "      <td>(971)814-5323x2217</td>\n",
       "      <td>53867.278030</td>\n",
       "      <td>USER_99997</td>\n",
       "    </tr>\n",
       "    <tr>\n",
       "      <th>99998</th>\n",
       "      <td>99998</td>\n",
       "      <td>46.818719</td>\n",
       "      <td>Female</td>\n",
       "      <td>2020-06-08 09:05:38.724868</td>\n",
       "      <td>Pattern leg serve drug bank operation she task...</td>\n",
       "      <td>nicolesullivan@example.com</td>\n",
       "      <td>999.912.4653x993</td>\n",
       "      <td>42367.384560</td>\n",
       "      <td>USER_99998</td>\n",
       "    </tr>\n",
       "    <tr>\n",
       "      <th>99999</th>\n",
       "      <td>99999</td>\n",
       "      <td>50.240650</td>\n",
       "      <td>Female</td>\n",
       "      <td>2022-01-14 04:21:15.229694</td>\n",
       "      <td>Establish attorney leader attorney stage quite...</td>\n",
       "      <td>deannaingram@example.com</td>\n",
       "      <td>(915)226-1273x7826</td>\n",
       "      <td>51757.277988</td>\n",
       "      <td>USER_99999</td>\n",
       "    </tr>\n",
       "  </tbody>\n",
       "</table>\n",
       "<p>100000 rows × 9 columns</p>\n",
       "</div>"
      ]
     },
     "execution_count": 70,
     "metadata": {},
     "output_type": "execute_result"
    }
   ],
   "execution_count": 70
  },
  {
   "metadata": {
    "ExecuteTime": {
     "end_time": "2024-06-27T20:04:51.501566Z",
     "start_time": "2024-06-27T20:04:51.500434Z"
    }
   },
   "cell_type": "code",
   "source": "",
   "id": "e6690595377d5c83",
   "outputs": [],
   "execution_count": null
  },
  {
   "metadata": {
    "ExecuteTime": {
     "end_time": "2024-06-27T20:04:51.503158Z",
     "start_time": "2024-06-27T20:04:51.502032Z"
    }
   },
   "cell_type": "code",
   "source": "",
   "id": "730da4fba0397ee6",
   "outputs": [],
   "execution_count": null
  }
 ],
 "metadata": {
  "kernelspec": {
   "display_name": "Python 3",
   "language": "python",
   "name": "python3"
  },
  "language_info": {
   "codemirror_mode": {
    "name": "ipython",
    "version": 2
   },
   "file_extension": ".py",
   "mimetype": "text/x-python",
   "name": "python",
   "nbconvert_exporter": "python",
   "pygments_lexer": "ipython2",
   "version": "2.7.6"
  }
 },
 "nbformat": 4,
 "nbformat_minor": 5
}
